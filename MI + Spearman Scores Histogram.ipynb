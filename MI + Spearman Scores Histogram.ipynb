{
 "cells": [
  {
   "cell_type": "code",
   "execution_count": 4,
   "metadata": {},
   "outputs": [
    {
     "data": {
      "image/png": "[encoded data removed]",
      "text/plain": [
       "<Figure size 432x288 with 1 Axes>"
      ]
     },
     "metadata": {
      "needs_background": "light"
     },
     "output_type": "display_data"
    },
    {
     "data": {
      "image/png": "[encoded data removed]",
      "text/plain": [
       "<Figure size 432x288 with 1 Axes>"
      ]
     },
     "metadata": {
      "needs_background": "light"
     },
     "output_type": "display_data"
    }
   ],
   "source": [
    "import matplotlib as mpl\n",
    "import matplotlib.pyplot as plt\n",
    "from matplotlib.ticker import AutoMinorLocator\n",
    "import numpy as np\n",
    "import warnings\n",
    "warnings.filterwarnings(\"ignore\")\n",
    "\n",
    "mutual=np.genfromtxt('norm_MI_scores.txt',dtype=float)\n",
    "spearman=np.genfromtxt('spearman_coefficients.txt',dtype=None)\n",
    "spearman[40] = 0\n",
    "\n",
    "mpl.rcParams['axes.linewidth'] = 1.0\n",
    "plt.rc('font', **{'family':'sans-serif','sans-serif':['Times New Roman']})\n",
    "\n",
    "subxticks=[]\n",
    "subxticks.append('D0')\n",
    "for i in range(1,len(mutual)-1):\n",
    "    subxticks.append('')\n",
    "subxticks.append('D50')\n",
    "\n",
    "plt.figure(0)\n",
    "\n",
    "x=np.arange(0,51,1)\n",
    "xticks=[]\n",
    "y=np.arange(0,8,1)\n",
    "yticks=np.arange(0,15,1)\n",
    "\n",
    "ml = AutoMinorLocator(4)\n",
    "plt.tick_params(which='both', width=1)\n",
    "plt.tick_params(which='major', length=6)\n",
    "plt.tick_params(which='minor', length=4)\n",
    "plt.xticks(x,subxticks)\n",
    "plt.yticks(y,yticks)\n",
    "plt.axis([-.5, len(subxticks)-.5, 0,1])\n",
    "plt.ylabel('Score')\n",
    "plt.tick_params(axis='both', which='major')\n",
    "plt.axes().yaxis.set_minor_locator(ml)\n",
    "plt.tick_params(axis='x',which='both',bottom=False)\n",
    "plt.title('Normalized Mutual Information Score')\n",
    "\n",
    "plt.scatter(x,mutual,s=20,c='red')\n",
    "\n",
    "##\n",
    "\n",
    "plt.figure(1)\n",
    "\n",
    "x=np.arange(0,51,1)\n",
    "xticks=[]\n",
    "y=np.arange(-1,8,1)\n",
    "yticks=np.arange(-1,15,1)\n",
    "\n",
    "ml = AutoMinorLocator(4)\n",
    "plt.tick_params(which='both', width=1)\n",
    "plt.tick_params(which='major', length=6)\n",
    "plt.tick_params(which='minor', length=4)\n",
    "plt.xticks(x,subxticks)\n",
    "plt.yticks(y,yticks)\n",
    "plt.axis([-.5, len(subxticks)-.5, -1,1])\n",
    "plt.ylabel('Score')\n",
    "plt.tick_params(axis='both', which='major')\n",
    "plt.axes().yaxis.set_minor_locator(ml)\n",
    "plt.tick_params(axis='x',which='both',bottom=False)\n",
    "plt.title('Spearman Coefficient')\n",
    "plt.plot([-10,100],[0,0],'--k',linewidth=1.0)\n",
    "\n",
    "plt.scatter(x,spearman,s=20,c='blue')\n",
    "\n",
    "plt.show()"
   ]
  },
  {
   "cell_type": "code",
   "execution_count": null,
   "metadata": {},
   "outputs": [],
   "source": []
  }
 ],
 "metadata": {
  "kernelspec": {
   "display_name": "Python 3",
   "language": "python",
   "name": "python3"
  },
  "language_info": {
   "codemirror_mode": {
    "name": "ipython",
    "version": 3
   },
   "file_extension": ".py",
   "mimetype": "text/x-python",
   "name": "python",
   "nbconvert_exporter": "python",
   "pygments_lexer": "ipython3",
   "version": "3.7.0"
  }
 },
 "nbformat": 4,
 "nbformat_minor": 2
}
