{
 "cells": [
  {
   "cell_type": "code",
   "execution_count": 1,
   "metadata": {
    "scrolled": true
   },
   "outputs": [
    {
     "name": "stdout",
     "output_type": "stream",
     "text": [
      "Completed.\n"
     ]
    }
   ],
   "source": [
    "from sklearn.metrics import normalized_mutual_info_score\n",
    "import matplotlib as mpl\n",
    "import matplotlib.pyplot as plt\n",
    "import numpy as np\n",
    "import os\n",
    "import sys\n",
    "\n",
    "DescriptorsData = np.genfromtxt('Combined_Descriptors.csv',dtype=str,delimiter=',')\n",
    "\n",
    "#useful data starts at data[3]\n",
    "data=[[] for i in range(0,55)]\n",
    "for i in range(0,len(DescriptorsData)):\n",
    "    for j in range(0,55):\n",
    "        if(j > 2):\n",
    "            data[j].append(float(DescriptorsData[i][j]))\n",
    "        else:\n",
    "            data[j].append(DescriptorsData[i][j])\n",
    "\n",
    "#data[54] is defect levels column\n",
    "\n",
    "here = os.path.dirname(os.path.realpath(sys.argv[1]))\n",
    "subdir = \"MI_plots\"\n",
    "try:\n",
    "    os.mkdir(os.path.join(here, subdir))\n",
    "except:\n",
    "    pass\n",
    "\n",
    "MI_score=[]\n",
    "for i in range(3,54):\n",
    "    MI_score.append(normalized_mutual_info_score(data[i],data[54]))\n",
    "    \n",
    "    plt.figure(i-3)\n",
    "    \n",
    "    mpl.rcParams['axes.linewidth'] = 1.0\n",
    "    plt.rc('font', **{'family':'sans-serif','sans-serif':['Times New Roman']})\n",
    "    \n",
    "    x = data[i]\n",
    "    y = data[54]\n",
    "    \n",
    "    plt.title('Scatter Plot for data[%s] and Defect Levels: MI Score = %s' % (i,float(format(MI_score[i-3], '.4f'))))\n",
    "    plt.xlabel('data[%s]' % i)\n",
    "    plt.ylabel('Defect Levels (eV)')\n",
    "    \n",
    "    plt.scatter(x,y,s=4,c='red')\n",
    "    \n",
    "    plt.savefig('MI_plots/defects_vs_data[%s].png' % i,bbox_inches='tight')\n",
    "    plt.close()\n",
    "\n",
    "with open('norm_MI_scores.txt','w') as file:\n",
    "    for i in range(len(MI_score)):\n",
    "        file.write(str(MI_score[i]))\n",
    "        file.write('\\n')\n",
    "#\n",
    "print(\"Completed.\")"
   ]
  },
  {
   "cell_type": "code",
   "execution_count": null,
   "metadata": {},
   "outputs": [],
   "source": []
  }
 ],
 "metadata": {
  "kernelspec": {
   "display_name": "Python 3",
   "language": "python",
   "name": "python3"
  },
  "language_info": {
   "codemirror_mode": {
    "name": "ipython",
    "version": 3
   },
   "file_extension": ".py",
   "mimetype": "text/x-python",
   "name": "python",
   "nbconvert_exporter": "python",
   "pygments_lexer": "ipython3",
   "version": "3.7.0"
  }
 },
 "nbformat": 4,
 "nbformat_minor": 2
}
