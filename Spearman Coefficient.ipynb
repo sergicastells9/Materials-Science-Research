{
 "cells": [
  {
   "cell_type": "code",
   "execution_count": 13,
   "metadata": {},
   "outputs": [
    {
     "name": "stdout",
     "output_type": "stream",
     "text": [
      "Completed.\n"
     ]
    }
   ],
   "source": [
    "from scipy.stats import spearmanr\n",
    "import numpy as np\n",
    "import warnings\n",
    "warnings.filterwarnings(\"ignore\")\n",
    "\n",
    "DescriptorsData = np.genfromtxt('Combined_Descriptors.csv',dtype=str,delimiter=',')\n",
    "\n",
    "#useful data starts at data[3]\n",
    "data=[[] for i in range(0,55)]\n",
    "for i in range(0,len(DescriptorsData)):\n",
    "    for j in range(0,55):\n",
    "        if(j > 2):\n",
    "            data[j].append(float(DescriptorsData[i][j]))\n",
    "        else:\n",
    "            data[j].append(DescriptorsData[i][j])\n",
    "\n",
    "#data[54] is defect levels column\n",
    "\n",
    "Sp_Coeff=[]\n",
    "with open('spearman_coefficients.txt','w') as file:\n",
    "    for i in range(3,54):\n",
    "        Sp_Coeff.append(spearmanr(data[i],data[54])[0])\n",
    "        file.write(str(Sp_Coeff[i-3]))\n",
    "        file.write('\\n')\n",
    "#\n",
    "print(\"Completed.\")"
   ]
  },
  {
   "cell_type": "code",
   "execution_count": null,
   "metadata": {},
   "outputs": [],
   "source": []
  }
 ],
 "metadata": {
  "kernelspec": {
   "display_name": "Python 3",
   "language": "python",
   "name": "python3"
  },
  "language_info": {
   "codemirror_mode": {
    "name": "ipython",
    "version": 3
   },
   "file_extension": ".py",
   "mimetype": "text/x-python",
   "name": "python",
   "nbconvert_exporter": "python",
   "pygments_lexer": "ipython3",
   "version": "3.7.0"
  }
 },
 "nbformat": 4,
 "nbformat_minor": 2
}
